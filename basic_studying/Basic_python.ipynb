{
 "cells": [
  {
   "cell_type": "code",
   "execution_count": 2,
   "metadata": {},
   "outputs": [
    {
     "name": "stdout",
     "output_type": "stream",
     "text": [
      "5 15 50 2.0 0\n"
     ]
    },
    {
     "data": {
      "text/plain": [
       "15"
      ]
     },
     "execution_count": 2,
     "metadata": {},
     "output_type": "execute_result"
    }
   ],
   "source": [
    "# 단순 계산\n",
    "a, b = 10, 5\n",
    "print(a - b, a+b, a*b, a/b,a%b)\n",
    "\n",
    "def adding(a, b):\n",
    "    return a+b\n",
    "\n",
    "adding(a, b)"
   ]
  },
  {
   "cell_type": "code",
   "execution_count": 14,
   "metadata": {},
   "outputs": [
    {
     "name": "stdout",
     "output_type": "stream",
     "text": [
      "18\n",
      "15\n"
     ]
    }
   ],
   "source": [
    "def adding(a, b , c = None):\n",
    "    if (c == None):\n",
    "        return a + b\n",
    "    else:\n",
    "        return a + b + c\n",
    "    \n",
    "print(adding(10, 5, 3))\n",
    "print(adding(10, 5))\n"
   ]
  },
  {
   "cell_type": "code",
   "execution_count": 2,
   "metadata": {},
   "outputs": [
    {
     "name": "stdout",
     "output_type": "stream",
     "text": [
      "<class 'int'>\n",
      "<class 'float'>\n",
      "<class 'str'>\n",
      "<class 'list'>\n",
      "<class 'dict'>\n",
      "<class 'tuple'>\n",
      "<class 'set'>\n"
     ]
    }
   ],
   "source": [
    "print(type(1))\n",
    "print(type(1.5))\n",
    "print(type('hello'))\n",
    "print(type([1,2,3,4,1]))\n",
    "print(type({'a': 1}))\n",
    "print(type((1, 2, 3)))\n",
    "print(type(set([1,2,3,4,1])))"
   ]
  },
  {
   "cell_type": "code",
   "execution_count": 7,
   "metadata": {},
   "outputs": [
    {
     "data": {
      "text/plain": [
       "[100, 200, 300]"
      ]
     },
     "execution_count": 7,
     "metadata": {},
     "output_type": "execute_result"
    }
   ],
   "source": [
    "customer1 = 100\n",
    "customer2 = 200\n",
    "customer3 = 300\n",
    "\n",
    "customers = [customer1, customer2, customer3]\n",
    "customers"
   ]
  },
  {
   "cell_type": "code",
   "execution_count": 8,
   "metadata": {},
   "outputs": [
    {
     "data": {
      "text/plain": [
       "[0, 100, 200, 300]"
      ]
     },
     "execution_count": 8,
     "metadata": {},
     "output_type": "execute_result"
    }
   ],
   "source": [
    "# 리스트에 행 추가 (1)\n",
    "customer0 = 0\n",
    "customers.insert(0, customer0)\n",
    "customers"
   ]
  },
  {
   "cell_type": "code",
   "execution_count": 9,
   "metadata": {},
   "outputs": [
    {
     "data": {
      "text/plain": [
       "[0, 100, 200, 300, 400]"
      ]
     },
     "execution_count": 9,
     "metadata": {},
     "output_type": "execute_result"
    }
   ],
   "source": [
    "# 리스트에 행 추가 (2)\n",
    "customer4 = 400\n",
    "customers.append(customer4)\n",
    "customers"
   ]
  },
  {
   "cell_type": "code",
   "execution_count": 10,
   "metadata": {},
   "outputs": [
    {
     "name": "stdout",
     "output_type": "stream",
     "text": [
      "400\n",
      "[0, 100, 200, 300]\n"
     ]
    }
   ],
   "source": [
    "print(customers.pop())\n",
    "print(customers)"
   ]
  },
  {
   "cell_type": "code",
   "execution_count": 11,
   "metadata": {},
   "outputs": [
    {
     "name": "stdout",
     "output_type": "stream",
     "text": [
      "[0, 100, 200, 300, 0, 100, 200, 300]\n",
      "[0, 100, 200, 300, 0, 100, 200, 300, 0, 100, 200, 300]\n"
     ]
    }
   ],
   "source": [
    "print(customers + customers)\n",
    "print(customers * 3)"
   ]
  },
  {
   "cell_type": "code",
   "execution_count": 12,
   "metadata": {},
   "outputs": [
    {
     "name": "stdout",
     "output_type": "stream",
     "text": [
      "[0, 100, 200, 300]\n",
      "[300, 200, 100, 0]\n"
     ]
    }
   ],
   "source": [
    "customers.sort()\n",
    "print(customers)\n",
    "customers.sort(reverse = True)\n",
    "print(customers)"
   ]
  },
  {
   "cell_type": "code",
   "execution_count": 13,
   "metadata": {},
   "outputs": [
    {
     "data": {
      "text/plain": [
       "[300, 200, 100, 0, 'Robert', 36, 183.5, True]"
      ]
     },
     "execution_count": 13,
     "metadata": {},
     "output_type": "execute_result"
    }
   ],
   "source": [
    "mix_customer = ['Robert', 36, 183.5, True]\n",
    "customers.extend(mix_customer)\n",
    "customers"
   ]
  },
  {
   "cell_type": "code",
   "execution_count": 23,
   "metadata": {},
   "outputs": [
    {
     "name": "stdout",
     "output_type": "stream",
     "text": [
      "264\n",
      "666\n",
      "dict_keys(['Robert', 'John']) dict_values([264, 666]) dict_items([('Robert', 264), ('John', 666)])\n"
     ]
    }
   ],
   "source": [
    "locker = {'Robert' : 264, 'John': 666}\n",
    "print(locker['Robert'])\n",
    "print(locker['John'])\n",
    "print(locker.keys(), locker.values(), locker.items())"
   ]
  },
  {
   "cell_type": "code",
   "execution_count": 24,
   "metadata": {},
   "outputs": [
    {
     "data": {
      "text/plain": [
       "\"What's happend happened\""
      ]
     },
     "execution_count": 24,
     "metadata": {},
     "output_type": "execute_result"
    }
   ],
   "source": [
    "# 문자열\n",
    "text = \"What's happend happened\"\n",
    "text"
   ]
  },
  {
   "cell_type": "code",
   "execution_count": 33,
   "metadata": {},
   "outputs": [
    {
     "name": "stdout",
     "output_type": "stream",
     "text": [
      "what's happend happened\n",
      "WHAT'S HAPPEND HAPPENED\n",
      "True\n",
      "False\n",
      "23\n",
      "w h d\n",
      "what what happened happened\n",
      "what's happend happened\n"
     ]
    }
   ],
   "source": [
    "print(text.lower())\n",
    "print(text.upper())\n",
    "print(text.islower())\n",
    "print(text.isupper())\n",
    "print(len(text))\n",
    "print(text[0], text[1], text[-1])\n",
    "print(text[0:4], text[:4], text[15:], text[-8:])\n",
    "\n",
    "text = text.replace(\"What\", \"what\")\n",
    "print(text)\n"
   ]
  },
  {
   "cell_type": "code",
   "execution_count": 166,
   "metadata": {},
   "outputs": [
    {
     "name": "stdout",
     "output_type": "stream",
     "text": [
      "I am 20 years old\n",
      "I love playing soccer\n",
      "Banana starts with B\n",
      "I am 20 years old\n",
      "I love soccer and basketball\n",
      "I love basketball and soccer\n",
      "I am 20 years old, and love playing soccer\n",
      "I am 20 years old, and love playing soccer\n",
      "I am soccer years old, and love playing 20\n",
      "I am 20 years old, and love playing soccer\n"
     ]
    }
   ],
   "source": [
    "print(\"I am %d years old\" %20)\n",
    "print(\"I love playing %s\" % \"soccer\")\n",
    "print(\"Banana starts with %c\" % \"B\")\n",
    "\n",
    "print(\"I am {} years old\". format(20))\n",
    "print(\"I love %s and %s\" %(\"soccer\", \"basketball\"))\n",
    "print(\"I love %s and %s\" %(\"basketball\", \"soccer\"))\n",
    "\n",
    "print(\"I am {} years old, and love playing {}\".format(20, \"soccer\"))\n",
    "print(\"I am {0} years old, and love playing {1}\".format(20, \"soccer\"))\n",
    "print(\"I am {1} years old, and love playing {0}\".format(20, \"soccer\"))\n",
    "\n",
    "print(\"I am {age} years old, and love playing {sport}\".format(age = 20, sport = \"soccer\"))\n"
   ]
  },
  {
   "cell_type": "code",
   "execution_count": 37,
   "metadata": {},
   "outputs": [
    {
     "name": "stdout",
     "output_type": "stream",
     "text": [
      "1699190498.8033457 <class 'float'>\n",
      "2023-11-05 22:21:38.803858\n"
     ]
    }
   ],
   "source": [
    "import datetime as dt\n",
    "import time as tm\n",
    "time = tm.time()\n",
    "print(time, type(time))\n",
    "\n",
    "dtnow = dt.datetime.fromtimestamp(tm.time())\n",
    "print(dtnow)"
   ]
  },
  {
   "cell_type": "code",
   "execution_count": 38,
   "metadata": {},
   "outputs": [
    {
     "data": {
      "text/plain": [
       "(2023, 11, 5, 22, 21, 38)"
      ]
     },
     "execution_count": 38,
     "metadata": {},
     "output_type": "execute_result"
    }
   ],
   "source": [
    "dtnow.year, dtnow.month, dtnow.day, dtnow.hour, dtnow.minute, dtnow.second"
   ]
  },
  {
   "cell_type": "code",
   "execution_count": 43,
   "metadata": {},
   "outputs": [
    {
     "data": {
      "text/plain": [
       "datetime.date(2023, 10, 29)"
      ]
     },
     "execution_count": 43,
     "metadata": {},
     "output_type": "execute_result"
    }
   ],
   "source": [
    "delta = dt.timedelta(days = 7)\n",
    "today = dt.date.today()\n",
    "today - delta"
   ]
  },
  {
   "cell_type": "code",
   "execution_count": 44,
   "metadata": {},
   "outputs": [
    {
     "name": "stdout",
     "output_type": "stream",
     "text": [
      "2022-07-03 14:00:00 <class 'datetime.datetime'>\n"
     ]
    }
   ],
   "source": [
    "# str -> datetime\n",
    "dt_datetime = dt.datetime.strptime(\"2022-07-03 14:00:00\", \"%Y-%m-%d %H:%M:%S\") \n",
    "print(dt_datetime, type(dt_datetime)) "
   ]
  },
  {
   "cell_type": "code",
   "execution_count": 45,
   "metadata": {},
   "outputs": [
    {
     "data": {
      "text/plain": [
       "str"
      ]
     },
     "execution_count": 45,
     "metadata": {},
     "output_type": "execute_result"
    }
   ],
   "source": [
    "# datetime -> str\n",
    "dt_datetime = dt.datetime.now() \n",
    "str_datetime = dt.datetime.strftime(dt_datetime, \"%Y-%m-%d\") \n",
    "type(str_datetime)"
   ]
  },
  {
   "cell_type": "code",
   "execution_count": 46,
   "metadata": {},
   "outputs": [
    {
     "data": {
      "text/plain": [
       "datetime.datetime(2023, 11, 5, 22, 23, 57, 278862)"
      ]
     },
     "execution_count": 46,
     "metadata": {},
     "output_type": "execute_result"
    }
   ],
   "source": [
    "# timestamp -> datetime\n",
    "timestamp = tm.time()\n",
    "date = dt.datetime.fromtimestamp(timestamp)\n",
    "date"
   ]
  },
  {
   "cell_type": "code",
   "execution_count": 48,
   "metadata": {},
   "outputs": [
    {
     "data": {
      "text/plain": [
       "time.struct_time(tm_year=2022, tm_mon=7, tm_mday=3, tm_hour=14, tm_min=0, tm_sec=0, tm_wday=6, tm_yday=184, tm_isdst=-1)"
      ]
     },
     "execution_count": 48,
     "metadata": {},
     "output_type": "execute_result"
    }
   ],
   "source": [
    "str_datetime = \"2022-07-03 14:00:00\"\n",
    "time_tuple = dt.datetime.strptime(str_datetime, \"%Y-%m-%d %H:%M:%S\").timetuple()\n",
    "time_tuple"
   ]
  }
 ],
 "metadata": {
  "kernelspec": {
   "display_name": "Python 3.10.5 64-bit",
   "language": "python",
   "name": "python3"
  },
  "language_info": {
   "codemirror_mode": {
    "name": "ipython",
    "version": 3
   },
   "file_extension": ".py",
   "mimetype": "text/x-python",
   "name": "python",
   "nbconvert_exporter": "python",
   "pygments_lexer": "ipython3",
   "version": "3.10.5"
  },
  "orig_nbformat": 4,
  "vscode": {
   "interpreter": {
    "hash": "fb8e2975df1fe5602b1cfb75699290439b88f1435f6bb1a696d6e3a7a2c496e9"
   }
  }
 },
 "nbformat": 4,
 "nbformat_minor": 2
}
